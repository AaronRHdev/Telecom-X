{
 "cells": [
  {
   "cell_type": "markdown",
   "id": "4a5f4cce",
   "metadata": {},
   "source": [
    "# Challenge Churn of Clients"
   ]
  }
 ],
 "metadata": {
  "language_info": {
   "name": "python"
  }
 },
 "nbformat": 4,
 "nbformat_minor": 5
}
